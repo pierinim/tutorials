{
  "nbformat": 4,
  "nbformat_minor": 0,
  "metadata": {
    "colab": {
      "provenance": []
    },
    "kernelspec": {
      "name": "python3",
      "display_name": "Python 3"
    },
    "language_info": {
      "name": "python"
    }
  },
  "cells": [
    {
      "cell_type": "markdown",
      "source": [
        "Adapted from TensorFlow-GNN tutorials notebook.\n",
        "https://github.com/tensorflow/gnn/blob/main/examples/notebooks/intro_mutag_example.ipynb\n",
        "\n",
        "Dataset citation:\n",
        "\n",
        "https://chrsmrrs.github.io/datasets/docs/home/\n",
        "Riesen, K. and Bunke, H.: IAM Graph Database Repository for Graph Based Pattern Recognition and Machine Learning. In: da Vitora Lobo, N. et al. (Eds.), SSPR&SPR 2008, LNCS, vol. 5342, pp. 287-297, 2008.\n",
        "\n",
        "AIDS Antiviral Screen Data (2004)\n",
        "\n"
      ],
      "metadata": {
        "id": "LrSf7BvShYAG"
      }
    },
    {
      "cell_type": "markdown",
      "source": [
        "# Import libraries"
      ],
      "metadata": {
        "id": "9Haq11diwsbj"
      }
    },
    {
      "cell_type": "code",
      "source": [
        "#install tf-gnn\n",
        "!pip install -q tensorflow_gnn"
      ],
      "metadata": {
        "id": "O0lFqwW2etRI"
      },
      "execution_count": null,
      "outputs": []
    },
    {
      "cell_type": "code",
      "execution_count": null,
      "metadata": {
        "id": "Zy2GxOEpd9_8"
      },
      "outputs": [],
      "source": [
        "import os\n",
        "os.environ[\"TF_USE_LEGACY_KERAS\"] = \"1\"  # For TF2.16+.\n",
        "import tensorflow_gnn as tfgnn\n",
        "import tensorflow as tf\n",
        "import numpy as np\n",
        "import networkx as nx\n",
        "import matplotlib.pyplot as plt"
      ]
    },
    {
      "cell_type": "code",
      "source": [
        "# Set global font size for all text\n",
        "plt.rcParams.update({'font.size': 14})  # Adjust to your desired font size\n"
      ],
      "metadata": {
        "id": "nb3dQ5N9OuPZ"
      },
      "execution_count": null,
      "outputs": []
    },
    {
      "cell_type": "code",
      "source": [
        "#set random seed for reproducibility\n",
        "np.random.seed(42)"
      ],
      "metadata": {
        "id": "AF8NsUqXfJJj"
      },
      "execution_count": null,
      "outputs": []
    },
    {
      "cell_type": "markdown",
      "source": [
        "## Useful functions"
      ],
      "metadata": {
        "id": "mYSFXILIw_er"
      }
    },
    {
      "cell_type": "code",
      "source": [
        "import pickle\n",
        "from tqdm import tqdm\n",
        "def to_one_hot(label, num_classes):\n",
        "    \"\"\"\n",
        "    Converts a single label into a one-hot encoded vector.\n",
        "\n",
        "    Parameters:\n",
        "    label (int): The label to be one-hot encoded.\n",
        "    num_classes (int): The total number of unique classes.\n",
        "\n",
        "    Returns:\n",
        "    numpy.ndarray: A one-dimensional one-hot encoded vector.\n",
        "    \"\"\"\n",
        "    one_hot_vector = np.zeros(num_classes)\n",
        "    one_hot_vector[label] = 1\n",
        "    return one_hot_vector.tolist()\n",
        "def convert_nx_to_graph_tensor(G, num_classes, num_classes_edges):\n",
        "    \"\"\"\n",
        "    Converts a networkx graph with existing node and edge features to a tensorflow_gnn.GraphTensor object.\n",
        "\n",
        "    Args:\n",
        "        G (networkx.Graph): The networkx graph to be converted.\n",
        "                            Node features should be stored in G.nodes[node_id]['feature'].\n",
        "                            Edge features should be stored in G.edges[edge]['feature'] (optional).\n",
        "\n",
        "    Returns:\n",
        "        tensorflow_gnn.GraphTensor: The equivalent graph in GraphTensor format.\n",
        "    \"\"\"\n",
        "    # Get the number of nodes and edges\n",
        "    num_nodes = G.number_of_nodes()\n",
        "    edge_list = list(G.edges)\n",
        "\n",
        "    # Convert edges to a tensor\n",
        "    edges_tensor = tf.convert_to_tensor(edge_list, dtype=tf.int32)\n",
        "    # for e in G.edges:\n",
        "    #     print(G.edges[e])\n",
        "\n",
        "\n",
        "    # Extract node features (assuming they are stored in 'feature' attribute)\n",
        "    node_features_list = [G.nodes[node_id]['attributes']+to_one_hot(G.nodes[node_id]['labels'], num_classes=num_classes) for node_id in G.nodes]\n",
        "\n",
        "    # node_features_list = [0.0 for _ in node_features_list]\n",
        "    # node_features_list += [to_one_hot(G.nodes[node_id]['labels'], num_classes=num_classes) for node_id in G.nodes]\n",
        "\n",
        "    node_features = tf.convert_to_tensor(node_features_list, dtype=tf.float32)\n",
        "    # print(node_features.shape)\n",
        "    # 0/0\n",
        "\n",
        "    edge_features_list = [to_one_hot(G.edges[edge]['labels'], num_classes=num_classes_edges) for edge in G.edges]\n",
        "    edge_features = tf.convert_to_tensor(edge_features_list, dtype=tf.float32)\n",
        "\n",
        "    # print(G.graph)\n",
        "    # 0/0\n",
        "\n",
        "    # Create the GraphTensor\n",
        "    graph_tensor = tfgnn.GraphTensor.from_pieces(\n",
        "        context=tfgnn.Context.from_fields(\n",
        "            features={'label': G.graph['classes']}),\n",
        "        node_sets={\"atoms\": tfgnn.NodeSet.from_fields(\n",
        "            sizes=[num_nodes],\n",
        "            features={tfgnn.HIDDEN_STATE: node_features}\n",
        "        )},\n",
        "        edge_sets={\"bonds\": tfgnn.EdgeSet.from_fields(\n",
        "            sizes=[len(edge_list)],\n",
        "            adjacency=tfgnn.Adjacency.from_indices(\n",
        "                source=(\"atoms\", edges_tensor[:, 0]),\n",
        "                target=(\"atoms\", edges_tensor[:, 1])\n",
        "            ),\n",
        "            features={tfgnn.HIDDEN_STATE: edge_features}\n",
        "        )}\n",
        "    )\n",
        "\n",
        "    return graph_tensor\n",
        "\n",
        "\n",
        "def load(filename, limit=-1):\n",
        "    graph_db = pickle.load(open(filename, \"rb\"))\n",
        "\n",
        "    tf_graphs = []\n",
        "    N = len(graph_db)\n",
        "    if limit > 0:\n",
        "        N = limit\n",
        "    for i in tqdm(range(N)):\n",
        "        tf_g = convert_nx_to_graph_tensor(graph_db[i], 38, num_classes_edges=3)\n",
        "        # print(graph_db[i], graph_db[i], graph_db[i].graph)\n",
        "        # print(tf_g.node_sets['nodes'])\n",
        "\n",
        "        node_sert = tf_g.node_sets['atoms']\n",
        "        features_tensor = node_sert.features.values()\n",
        "        features_matrix = [tensor.numpy() for tensor in features_tensor]\n",
        "\n",
        "        edges = tf_g.edge_sets['bonds']\n",
        "        edges_tensor = edges.features.values()\n",
        "        edge_f_matrix = [tensor.numpy() for tensor in edges_tensor]\n",
        "\n",
        "        tf_graphs.append(tf_g)\n",
        "\n",
        "    return tf_graphs"
      ],
      "metadata": {
        "id": "r2E7nezmgXRh"
      },
      "execution_count": null,
      "outputs": []
    },
    {
      "cell_type": "markdown",
      "source": [
        "## Load and preprocess data"
      ],
      "metadata": {
        "id": "WcB2hhJkxHVz"
      }
    },
    {
      "cell_type": "code",
      "source": [
        "!wget --no-check-certificate 'https://docs.google.com/uc?export=download&id=1IHy7C6uZnAQucvW3jI-_fs6vAQfcn3HQ' -O graph_db.bin"
      ],
      "metadata": {
        "id": "5tvSBnjnOgHY"
      },
      "execution_count": null,
      "outputs": []
    },
    {
      "cell_type": "code",
      "source": [
        "raise RuntimeError('GNN Tutorial - Checkpoint -1')\n",
        "\n",
        "tf_graphs = load('graph_db.bin', 500) # Set the second argument to -1 later once you wanna load everything\n",
        "shuffled_list = np.random.permutation(tf_graphs) #shuffle data"
      ],
      "metadata": {
        "colab": {
          "base_uri": "https://localhost:8080/"
        },
        "id": "qrQ92dYffLys",
        "outputId": "25d2ac18-950c-4966-9b85-d1d74f0e5702"
      },
      "execution_count": null,
      "outputs": [
        {
          "output_type": "stream",
          "name": "stderr",
          "text": [
            "100%|██████████| 500/500 [00:15<00:00, 32.65it/s]\n"
          ]
        }
      ]
    },
    {
      "cell_type": "code",
      "source": [
        "# Split the list into 20% (val), 20% (test), and 60% (train)\n",
        "# Calculate the split indices\n",
        "split_1 = int(len(shuffled_list) * 0.2)\n",
        "split_2 = split_1 + int(len(shuffled_list) * 0.2)\n",
        "\n",
        "val_graphs = shuffled_list[:split_1]\n",
        "test_graphs = shuffled_list[split_1:split_2]\n",
        "train_graphs = shuffled_list[split_2:]"
      ],
      "metadata": {
        "id": "UQpBvkLBfTXt"
      },
      "execution_count": null,
      "outputs": []
    },
    {
      "cell_type": "code",
      "source": [
        "def plot_networkx_graph(G: nx.Graph, plot_with_ids=False, node_color='lightblue', plot_vectorial_rep=False, font_size=15, node_size=1000):\n",
        "    numeric_to_str_atomic_codes = { 0: 'C',1: 'O',2: 'N',3: 'Cl',4: 'F',5: 'S',6: 'Se',7: 'P',8: 'Na',9: 'I',\n",
        "                                    10: 'Co',11: 'Br',12: 'Li',13: 'Si',14: 'Mg',15: 'Cu',16: 'As',17: 'B',\n",
        "                                    18: 'Pt',19: 'Ru',20: 'K',21: 'Pd',22: 'Au',23: 'Te',24: 'W',25: 'Rh',26: 'Zn',\n",
        "                                    27: 'Bi',28: 'Pb',29: 'Ge',30: 'Sb',31: 'Sn',32: 'Ga',33: 'Hg',34: 'Ho',35: 'Tl',\n",
        "                                    36: 'Ni',37: 'Tb',}\n",
        "\n",
        "    # Set up the figure\n",
        "    plt.figure(figsize=(8, 8))\n",
        "\n",
        "    # Get positions for all nodes\n",
        "    pos = nx.spring_layout(G, seed=8)  # You can use other layouts like circular, shell, etc.\n",
        "\n",
        "    # Draw the graph\n",
        "    nx.draw(G, pos, with_labels=False, node_color=node_color, node_size=node_size, font_size=font_size, font_color='black')\n",
        "\n",
        "    # Draw node labels (in this case, features for illustration)\n",
        "    node_labels = nx.get_node_attributes(G, 'feature')\n",
        "    if plot_with_ids == False:\n",
        "      node_label_atom = {k: numeric_to_str_atomic_codes[v[0]] for k, v in node_labels.items()}\n",
        "    else:\n",
        "      node_label_atom = {k:k for k, v in node_labels.items()}\n",
        "    if plot_vectorial_rep:\n",
        "      node_label_atom = {k:'[...]' for k, v in node_labels.items()}\n",
        "\n",
        "    nx.draw_networkx_labels(G, pos, labels=node_label_atom)\n",
        "\n",
        "    # Draw edge labels (optional)\n",
        "    edge_labels = nx.get_edge_attributes(G, 'feature')\n",
        "    edge_labels = {k:np.argmax(v)+1 for k,v in edge_labels.items()}\n",
        "\n",
        "    if plot_vectorial_rep:\n",
        "      edge_labels = {k:'[...]' for k, v in edge_labels.items()}\n",
        "    nx.draw_networkx_edge_labels(G, pos, edge_labels={(i, j): str(edge_labels[(i, j)]) for i, j in G.edges()})\n",
        "\n",
        "    # Display the graph\n",
        "    plt.title('Graph Visualization')\n",
        "    plt.show()\n",
        "\n",
        "\n",
        "# Example usage:\n",
        "# plot_networkx_graph(my_networkx_graph)\n",
        "\n",
        "\n",
        "def graph_tensor_to_networkx(graph_tensor: tfgnn.GraphTensor) -> nx.Graph:\n",
        "    # Create an empty NetworkX graph\n",
        "    G = nx.Graph()\n",
        "\n",
        "    # Extract node features and add them to the graph\n",
        "    for node_set_name, node_set in graph_tensor.node_sets.items():\n",
        "        node_features = node_set.features[tfgnn.HIDDEN_STATE].numpy()  # Extract features as NumPy arrays\n",
        "        node_sizes = node_set.sizes.numpy()  # Extract node set sizes\n",
        "\n",
        "        # Add nodes with features to the graph\n",
        "        for i in range(node_sizes[0]):\n",
        "            G.add_node(i, feature=node_features[i])\n",
        "\n",
        "    # Extract edge features and add them to the graph\n",
        "    for edge_set_name, edge_set in graph_tensor.edge_sets.items():\n",
        "        edge_features = edge_set.features[tfgnn.HIDDEN_STATE].numpy()  # Extract edge features as NumPy arrays\n",
        "        edge_sizes = edge_set.sizes.numpy()  # Extract edge set sizes\n",
        "\n",
        "        adjacency = edge_set.adjacency  # Get the adjacency structure\n",
        "        source_nodes = adjacency.source.numpy()\n",
        "        target_nodes = adjacency.target.numpy()\n",
        "\n",
        "        # Add edges with features to the graph\n",
        "        for i in range(edge_sizes[0]):\n",
        "            G.add_edge(source_nodes[i], target_nodes[i], feature=edge_features[i])\n",
        "\n",
        "    return G"
      ],
      "metadata": {
        "id": "MO6ZpXh9fwjW"
      },
      "execution_count": null,
      "outputs": []
    },
    {
      "cell_type": "markdown",
      "source": [
        "## Checkpoint #1"
      ],
      "metadata": {
        "id": "n1q-yf4yWBVt"
      }
    },
    {
      "cell_type": "code",
      "source": [
        "raise RuntimeError('GNN Tutorial - Checkpoint #1')\n",
        "# TODO #1: Get one of the train graph and plot it with networkx\n",
        "\n",
        "my_graph = train_graphs[xx]\n",
        "my_graph_nx = graph_tensor_to_networkx(my_graph)"
      ],
      "metadata": {
        "id": "uCOF7j-xf0HK"
      },
      "execution_count": null,
      "outputs": []
    },
    {
      "cell_type": "markdown",
      "source": [
        "## Checkpoint #2"
      ],
      "metadata": {
        "id": "AvUD2OgkWWY9"
      }
    },
    {
      "cell_type": "code",
      "source": [
        "raise RuntimeError('GNN Tutorial - Checkpoint #2')\n",
        "# TODO #2: Get one of the train graph and add an edge to it, and then plot it\n",
        "\n",
        "my_graph = train_graphs[xx]\n",
        "my_graph_nx = graph_tensor_to_networkx(my_graph)\n",
        "\n",
        "#my_graph_nx.add_node(xx, feature=[0])\n",
        "#my_graph_nx.add_edge(xx, xx, feature=to_one_hot(2, 3))\n",
        "\n",
        "#plot_networkx_graph(my_graph_nx, plot_with_ids=False)"
      ],
      "metadata": {
        "id": "WwWQNNXgdWDM"
      },
      "execution_count": null,
      "outputs": []
    },
    {
      "cell_type": "code",
      "source": [
        "raise RuntimeError('GNN Tutorial - Checkpoint #3')\n",
        "# TODO: Nothing, just understand the code\n",
        "\n",
        "graph_tensor_spec = tfgnn.GraphTensorSpec.from_piece_specs(\n",
        "    context_spec=tfgnn.ContextSpec.from_field_specs(features_spec={\n",
        "        'label': tf.TensorSpec(shape=(1,), dtype=tf.int32)\n",
        "    }),\n",
        "    node_sets_spec={\n",
        "        'atoms':\n",
        "            tfgnn.NodeSetSpec.from_field_specs(\n",
        "                features_spec={\n",
        "                    tfgnn.HIDDEN_STATE:\n",
        "                        tf.TensorSpec((None, 42), tf.float32)\n",
        "                },\n",
        "                sizes_spec=tf.TensorSpec((1,), tf.int32)\n",
        "            )\n",
        "    },\n",
        "    edge_sets_spec={\n",
        "        'bonds':\n",
        "            tfgnn.EdgeSetSpec.from_field_specs(\n",
        "                features_spec={\n",
        "                    tfgnn.HIDDEN_STATE:\n",
        "                        tf.TensorSpec((None, 3), tf.float32)\n",
        "                }\n",
        "                , sizes_spec=tf.TensorSpec((1,), tf.int32)\n",
        "                ,\n",
        "                adjacency_spec=tfgnn.AdjacencySpec.from_incident_node_sets(\n",
        "                    'atoms', 'atoms'))\n",
        "    })\n",
        "\n",
        "\n",
        "# This is not actually used.. It is to simplify the above code for understanding\n",
        "graph_spec_illustration = {\n",
        "    \"context\": { # This graph level\n",
        "        \"features\": {\n",
        "            \"label\": {\n",
        "                \"shape\": (1,),\n",
        "                \"dtype\": \"int32\"\n",
        "            }\n",
        "        }\n",
        "    },\n",
        "    \"node_sets\": { # Can have multiple types of nodes here for heterogeneous GNNs\n",
        "        \"atoms\": { # Here it is only atoms\n",
        "            \"features\": { # And then every node set has features\n",
        "                tfgnn.HIDDEN_STATE: {\n",
        "                    \"shape\": (None, 42),\n",
        "                    \"dtype\": \"float32\"\n",
        "                }\n",
        "            },\n",
        "            \"sizes\": { # and sizes\n",
        "                \"shape\": (1,),\n",
        "                \"dtype\": \"int32\"\n",
        "            }\n",
        "        }\n",
        "    },\n",
        "    \"edge_sets\": { # And then you have edges (can be different types for different GNNs but here it is pretty simple\n",
        "        \"bonds\": { # It is only the bonds between the atoms in the molecules\n",
        "            \"features\": {\n",
        "                tfgnn.HIDDEN_STATE: {\n",
        "                    \"shape\": (None, 3),\n",
        "                    \"dtype\": \"float32\"\n",
        "                }\n",
        "            },\n",
        "            \"sizes\": {\n",
        "                \"shape\": (1,),\n",
        "                \"dtype\": \"int32\"\n",
        "            },\n",
        "            \"adjacency\": { # The bonds is between atoms and atoms of course (can be more complicated for heterogenous GNNs)\n",
        "                \"source_node_set\": \"atoms\",\n",
        "                \"target_node_set\": \"atoms\"\n",
        "            }\n",
        "        }\n",
        "    }\n",
        "}\n"
      ],
      "metadata": {
        "id": "Ra8oZ9JGfuOq"
      },
      "execution_count": null,
      "outputs": []
    },
    {
      "cell_type": "code",
      "source": [
        "# Create a generator function to yield GraphTensors\n",
        "def graph_tensor_generator():\n",
        "    for graph_tensor in train_graphs:\n",
        "        yield graph_tensor, graph_tensor.context.features['label']\n",
        "\n",
        "\n",
        "def graph_tensor_generator_validate():\n",
        "    for graph_tensor in val_graphs:\n",
        "        yield graph_tensor, graph_tensor.context.features['label']"
      ],
      "metadata": {
        "id": "6YlXoaMbf17z"
      },
      "execution_count": null,
      "outputs": []
    },
    {
      "cell_type": "code",
      "source": [
        "# Create a dataset from the generator\n",
        "train_dataset = tf.data.Dataset.from_generator(\n",
        "    graph_tensor_generator,  # The generator function\n",
        "    output_signature=(graph_tensor_spec, tf.TensorSpec(shape=(1,), dtype=tf.int32))  # Specify the output signature\n",
        ")\n",
        "\n",
        "# Create a dataset from the generator\n",
        "val_dataset = tf.data.Dataset.from_generator(\n",
        "    graph_tensor_generator_validate,  # The generator function\n",
        "    output_signature=(graph_tensor_spec, tf.TensorSpec(shape=(1,), dtype=tf.int32))  # Specify the output signature\n",
        ")"
      ],
      "metadata": {
        "id": "3aATPOR4f5Ty"
      },
      "execution_count": null,
      "outputs": []
    },
    {
      "cell_type": "code",
      "source": [
        "batch_size = 30\n",
        "# Now you can batch the dataset\n",
        "# batched_dataset = dataset.batch(batch_size=32)\n",
        "train_ds_batched = train_dataset.batch(batch_size=batch_size).repeat()\n",
        "val_ds_batched = val_dataset.batch(batch_size=batch_size)"
      ],
      "metadata": {
        "id": "nBYqizzCf7tJ"
      },
      "execution_count": null,
      "outputs": []
    },
    {
      "cell_type": "markdown",
      "source": [
        "# Define/build the model"
      ],
      "metadata": {
        "id": "zHf3Mhzao1WP"
      }
    },
    {
      "cell_type": "code",
      "source": [
        "# CHECKPOINT #4\n",
        "\n",
        "def _build_model(\n",
        "        graph_tensor_spec,\n",
        "        # Dimensions of initial states.\n",
        "        node_dim=16,\n",
        "        edge_dim=16,\n",
        "        # Dimensions for message passing.\n",
        "        message_dim=64,\n",
        "        next_state_dim=64,\n",
        "        # Dimension for the logits.\n",
        "        num_classes=2,\n",
        "        # Other hyperparameters.\n",
        "        l2_regularization=5e-4,\n",
        "        dropout_rate=0.5,\n",
        "):\n",
        "    # Model building with Keras's Functional API starts with an input object\n",
        "    # (a placeholder for the eventual inputs). Here is how it works for\n",
        "    # GraphTensors:\n",
        "    input_graph = tf.keras.layers.Input(type_spec=graph_tensor_spec)\n",
        "\n",
        "    # IMPORTANT: All TF-GNN modeling code assumes a GraphTensor of shape []\n",
        "    # in which the graphs of the input batch have been merged to components of\n",
        "    # one contiguously indexed graph. (There are no edges between components,\n",
        "    # so no information flows between them.)\n",
        "    graph = input_graph.merge_batch_to_components()\n",
        "\n",
        "    raise RuntimeError('GNN Tutorial - Checkpoint 4')\n",
        "    # TODO: Add another dense layer at the start!\n",
        "\n",
        "    # Nodes and edges have one-hot encoded input features. Sending them through\n",
        "    # a Dense layer effectively does a lookup in a trainable embedding table.\n",
        "    def change_node_state(node_set, *, node_set_name):\n",
        "        # Since we only have one node set, we can ignore node_set_name.\n",
        "        return tf.keras.layers.Dense(node_dim)(node_set[tfgnn.HIDDEN_STATE])\n",
        "\n",
        "    def change_edge_state(edge_set, *, edge_set_name):\n",
        "        return tf.keras.layers.Dense(edge_dim)(edge_set[tfgnn.HIDDEN_STATE])\n",
        "\n",
        "    graph = tfgnn.keras.layers.MapFeatures(\n",
        "        node_sets_fn=change_node_state, edge_sets_fn=change_edge_state)(\n",
        "        graph)\n",
        "\n",
        "    # This helper function is just a short-hand for the code below.\n",
        "    def dense(units, activation=\"relu\"):\n",
        "        \"\"\"A Dense layer with regularization (L2 and Dropout).\"\"\"\n",
        "        regularizer = tf.keras.regularizers.l2(l2_regularization)\n",
        "        return tf.keras.Sequential([\n",
        "            tf.keras.layers.Dense(\n",
        "                units,\n",
        "                activation=activation,\n",
        "                kernel_regularizer=regularizer,\n",
        "                bias_regularizer=regularizer),\n",
        "            tf.keras.layers.Dropout(dropout_rate)\n",
        "        ])\n",
        "\n",
        "\n",
        "    raise RuntimeError('GNN Tutorial - Checkpoint 5')\n",
        "\n",
        "    # Adapt the following for the first parameter of NodeSetUpdate:\n",
        "    ##\n",
        "    # {EDGE_NAME: tfgnn.keras.layers.SimpleConv(\n",
        "    #             sender_edge_feature=XX,\n",
        "    #             sender_node_feature=XX,\n",
        "    #             receiver_feature=XX,\n",
        "    #             message_fn=MESSAGE_FN,\n",
        "    #             reduce_type=REDUCE_TYPE)}\n",
        "\n",
        "    # Adapt the following for the second parameter of of NodeSetUpdate:\n",
        "    ##\n",
        "    # tfgnn.keras.layers.NextStateFromConcat(MESSAGE_FN)\n",
        "\n",
        "    # TODO: Add three message passing layers\n",
        "    # First one uses only the sender node features\n",
        "    # Second one uses the sender node features and the edge features\n",
        "    # Third one uses the sender node features, the edge features and the\n",
        "    #      receiver features\n",
        "    graph = tfgnn.keras.layers.GraphUpdate(\n",
        "        node_sets={\n",
        "            NODE_NAME: tfgnn.keras.layers.NodeSetUpdate(\n",
        "                EDDGE_SET_INPUTS,\n",
        "                HOW_TO_GET_NEXT_STATE)}\n",
        "    )(graph)\n",
        "\n",
        "\n",
        "    raise RuntimeError('GNN Tutorial - Checkpoint 6')\n",
        "    # Optional TODO: Add another pooling using max and then concatenate it with\n",
        "    # keras before getting the logits\n",
        "\n",
        "    # After the GNN has computed a context-aware representation of the NODE_NAME,\n",
        "    # the model reads out a representation for the graph as a whole by averaging\n",
        "    # (pooling) nde states into the graph context. The context is global to each\n",
        "    # input graph of the batch, so the first dimension of the result corresponds\n",
        "    # to the batch dimension of the inputs (same as the labels).\n",
        "    readout_features = tfgnn.keras.layers.Pool(\n",
        "        tfgnn.CONTEXT, \"mean\", node_set_name=NODE_NAME)(graph)\n",
        "\n",
        "    # Put a linear classifier on top (not followed by dropout).\n",
        "    logits = tf.keras.layers.Dense(1)(readout_features)\n",
        "\n",
        "    # Build a Keras Model for the transformation from input_graph to logits.\n",
        "    return tf.keras.Model(inputs=[input_graph], outputs=[logits])\n",
        "\n",
        "model = _build_model(train_dataset.element_spec[0])\n"
      ],
      "metadata": {
        "id": "Wt0bsJPEf9eD",
        "colab": {
          "base_uri": "https://localhost:8080/"
        },
        "outputId": "56459726-fbc8-436c-b8a0-b7deaa9ce3ee"
      },
      "execution_count": null,
      "outputs": [
        {
          "output_type": "stream",
          "name": "stdout",
          "text": [
            "()\n"
          ]
        }
      ]
    },
    {
      "cell_type": "code",
      "source": [
        "raise RuntimeError('GNN Tutorial - Checkpoint 10')\n",
        "\n",
        "loss = tf.keras.losses.BinaryCrossentropy(from_logits=True)\n",
        "metrics = [tf.keras.metrics.BinaryAccuracy(threshold=0.),\n",
        "           tf.keras.metrics.BinaryCrossentropy(from_logits=True)]\n",
        "\n",
        "model.compile(tf.keras.optimizers.Adam(learning_rate=0.0001), loss=loss, metrics=metrics)\n",
        "\n",
        "model.summary()"
      ],
      "metadata": {
        "id": "WgJVJgyqf_p_"
      },
      "execution_count": null,
      "outputs": []
    },
    {
      "cell_type": "markdown",
      "source": [
        "# Fit the model"
      ],
      "metadata": {
        "id": "Wa7g_2lIo4ML"
      }
    },
    {
      "cell_type": "code",
      "source": [
        "history = model.fit(train_ds_batched,\n",
        "                    steps_per_epoch=int(len(train_graphs)/batch_size),\n",
        "                    epochs=20,\n",
        "                    validation_data=val_ds_batched)"
      ],
      "metadata": {
        "id": "lVICU6QegG4j"
      },
      "execution_count": null,
      "outputs": []
    },
    {
      "cell_type": "code",
      "source": [
        "raise RuntimeError('GNN Tutorial - Checkpoint 11')\n",
        "for k, hist in history.history.items():\n",
        "  plt.plot(hist)\n",
        "  plt.title(k)\n",
        "  plt.show()"
      ],
      "metadata": {
        "id": "MWu7HrC7gIic"
      },
      "execution_count": null,
      "outputs": []
    },
    {
      "cell_type": "markdown",
      "source": [
        "## Solution #1\n",
        "(Should work fine -- might be slightly out of date)\n",
        "https://colab.research.google.com/drive/1Ux9CbLBP0N6tuXvYYJGebL-d0JgArJ6t?usp=share_link\n",
        "\n",
        "## Class solution\n",
        "\n",
        "https://colab.research.google.com/drive/1UTbE9vihZ9GuDX8wv-p0g7WjZ5X5tq-g?usp=sharing\n",
        "\n",
        "\n",
        "\n",
        "\n",
        "## Lecture slides:\n",
        "https://uzh-my.sharepoint.com/:p:/g/personal/shahrukh_qasim_physik_uzh_ch/EbUhvygNGJ9PvjCGStWFXWkBqgwIDrqtLgr5Ag9yhLtaiA?e=6i9ClW\n"
      ],
      "metadata": {
        "id": "o7wLHJL2xO5S"
      }
    }
  ]
}