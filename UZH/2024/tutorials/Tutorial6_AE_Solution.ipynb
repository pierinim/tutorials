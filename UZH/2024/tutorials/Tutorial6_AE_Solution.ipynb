{
 "cells": [
  {
   "cell_type": "code",
   "execution_count": null,
   "id": "78473beb-8a01-409b-a776-05b576014efd",
   "metadata": {},
   "outputs": [],
   "source": [
    "import numpy as np\n",
    "import matplotlib.pyplot as plt\n",
    "from tensorflow.keras.datasets import mnist\n",
    "from tensorflow.keras.models import Model\n",
    "from tensorflow.keras.layers import Input, Conv2D, MaxPooling2D, UpSampling2D, Dropout, Flatten, Dense, Reshape, BatchNormalization, Activation\n",
    "from tensorflow.keras.callbacks import EarlyStopping\n",
    "from tensorflow.keras.losses import MeanSquaredError\n",
    "from sklearn.metrics import roc_curve, auc, confusion_matrix\n",
    "import seaborn as sns\n",
    "from sklearn.model_selection import train_test_split"
   ]
  },
  {
   "cell_type": "code",
   "execution_count": null,
   "id": "4fe90722-2583-49c7-bc0c-a2bb342baf7a",
   "metadata": {},
   "outputs": [],
   "source": [
    "# Load MNIST dataset\n",
    "(x_train, y_train), (x_test, y_test) = mnist.load_data()"
   ]
  },
  {
   "cell_type": "code",
   "execution_count": null,
   "id": "609e8962-9e89-4188-b1ff-dae0b280f995",
   "metadata": {},
   "outputs": [],
   "source": [
    "# Normalize the dataset\n",
    "x_train = x_train.astype('float32') / 255.0\n",
    "x_test = x_test.astype('float32') / 255.0\n",
    "x_train = np.expand_dims(x_train, axis=-1)  # Add channel dimension\n",
    "x_test = np.expand_dims(x_test, axis=-1)\n",
    "# merge test and training\n",
    "x_train = np.concatenate((x_train, x_test))\n",
    "y_train = np.concatenate((y_train, y_test))\n",
    "del x_test, y_test"
   ]
  },
  {
   "cell_type": "code",
   "execution_count": null,
   "id": "412d61cc-9137-4070-87b0-439aafbe38b1",
   "metadata": {},
   "outputs": [],
   "source": [
    "print(x_train.shape, y_train.shape)"
   ]
  },
  {
   "cell_type": "code",
   "execution_count": null,
   "id": "3d8f50f6-6b44-4508-884a-01be7d1d9667",
   "metadata": {},
   "outputs": [],
   "source": [
    "# Extract normal (background) digits (excluding digit 5)\n",
    "normal_digits = np.where(y_train != 5)[0]\n",
    "anomaly_digits = np.where(y_train == 5)[0]\n",
    "x_normal = x_train[normal_digits]\n",
    "x_anomalies = x_train[anomaly_digits]"
   ]
  },
  {
   "cell_type": "code",
   "execution_count": null,
   "id": "14f95557-e13e-41e0-be49-0bd1063595e0",
   "metadata": {},
   "outputs": [],
   "source": [
    "# Split the normal digits into train, validation, and test sets (50%, 25%, 25%)\n",
    "x_train_normal, x_temp  = train_test_split(x_normal, test_size=0.5, random_state=42)\n",
    "x_val_normal, x_test_normal = train_test_split(x_temp, test_size=0.5, random_state=42)"
   ]
  },
  {
   "cell_type": "code",
   "execution_count": null,
   "id": "4a42dfdc-be5d-468e-896d-fe0879600379",
   "metadata": {},
   "outputs": [],
   "source": [
    "# Combine validation set with anomalies (label 0 for background, 1 for anomalies)\n",
    "x_val = np.concatenate([x_val_normal, x_anomalies], axis=0)\n",
    "y_val = np.concatenate([np.zeros(len(x_val_normal)), np.ones(len(x_anomalies))], axis=0)\n",
    "# shuffle them if you want. Not really needed"
   ]
  },
  {
   "cell_type": "code",
   "execution_count": null,
   "id": "30980bd2-0a8b-4150-9ef1-efa1e071fb8a",
   "metadata": {},
   "outputs": [],
   "source": [
    "print(x_train_normal.shape, x_val_normal.shape, x_test_normal.shape)\n",
    "print(x_val.shape, y_val.shape)"
   ]
  },
  {
   "cell_type": "code",
   "execution_count": null,
   "id": "05dcd2cb-bba4-4d85-a5e7-0e235eb822f2",
   "metadata": {},
   "outputs": [],
   "source": [
    "# Visualize some digits from the dataset\n",
    "fig, axes = plt.subplots(1, 5, figsize=(10, 3))\n",
    "digits = [1,2,3,-1,-2]\n",
    "for i, ax in enumerate(axes):\n",
    "    ax.imshow(x_val[digits[i]].reshape(28, 28), cmap='gray')\n",
    "    ax.set_title(f\"Label: {y_val[digits[i]]}\")\n",
    "    ax.axis('off')\n",
    "plt.show()"
   ]
  },
  {
   "cell_type": "code",
   "execution_count": null,
   "id": "0e73488b-25cb-4d5c-9efd-57ed357d95e2",
   "metadata": {},
   "outputs": [],
   "source": [
    "def build_autoencoder(input_shape):\n",
    "    input_img = Input(shape=input_shape)\n",
    "\n",
    "    # Encoder\n",
    "    x = Conv2D(16, (3, 3), padding='same')(input_img)\n",
    "    x = BatchNormalization()(x)\n",
    "    x = Activation(\"relu\")(x)\n",
    "    x = MaxPooling2D((2, 2), padding='same')(x)\n",
    "    x = Conv2D(8, (3, 3), padding='same')(x)\n",
    "    x = BatchNormalization()(x)\n",
    "    x = Activation(\"relu\")(x)\n",
    "    x = MaxPooling2D((2, 2), padding='same')(x)\n",
    "    x = Conv2D(1, (3, 3), padding='same')(x)\n",
    "    x = BatchNormalization()(x)\n",
    "    x = Activation(\"relu\")(x)\n",
    "    x = Flatten()(x)\n",
    "    x = Dense(16,\"relu\")(x)\n",
    "    x = Dense(8,\"relu\")(x)\n",
    "    x = Dense(16,\"relu\")(x)\n",
    "    x = Dense(49,\"relu\")(x)\n",
    "    x = Reshape((7,7,1))(x)\n",
    "    # Decoder\n",
    "    x = Conv2D(4, (3, 3), padding='same')(x)\n",
    "    x = BatchNormalization()(x)\n",
    "    x = Activation(\"relu\")(x)\n",
    "    x = UpSampling2D((2, 2))(x)\n",
    "    x = Conv2D(8, (3, 3), padding='same')(x)\n",
    "    x = BatchNormalization()(x)\n",
    "    x = Activation(\"relu\")(x)\n",
    "    x = UpSampling2D((2, 2))(x)\n",
    "    x = Conv2D(16, (3, 3), activation='relu', padding='same')(x)\n",
    "    x = BatchNormalization()(x)\n",
    "    x = Activation(\"relu\")(x)\n",
    "    x = Conv2D(1, (3, 3), activation='sigmoid', padding='same')(x)\n",
    "\n",
    "    autoencoder = Model(input_img, x)\n",
    "    return autoencoder"
   ]
  },
  {
   "cell_type": "code",
   "execution_count": null,
   "id": "09f85620-914e-4f53-a773-350841a1f949",
   "metadata": {},
   "outputs": [],
   "source": [
    "# Build the autoencoder model\n",
    "input_shape = (28, 28, 1)\n",
    "autoencoder = build_autoencoder(input_shape)\n",
    "autoencoder.summary()"
   ]
  },
  {
   "cell_type": "code",
   "execution_count": null,
   "id": "c7978afb-2603-445c-a1ea-bdeeac641b34",
   "metadata": {},
   "outputs": [],
   "source": [
    "# Compile the model\n",
    "autoencoder.compile(optimizer='adam', loss=MeanSquaredError())"
   ]
  },
  {
   "cell_type": "code",
   "execution_count": null,
   "id": "50fd14c2-0b9c-49a0-ab49-c6e1a635f2b7",
   "metadata": {},
   "outputs": [],
   "source": [
    "# Early stopping to avoid overfitting\n",
    "early_stopping = EarlyStopping(monitor='val_loss', patience=5, restore_best_weights=True)"
   ]
  },
  {
   "cell_type": "code",
   "execution_count": null,
   "id": "286afdd8-9a29-4291-8687-0a8bb44e311b",
   "metadata": {},
   "outputs": [],
   "source": [
    "# Train the autoencoder on the training data\n",
    "history = autoencoder.fit(x_train_normal, x_train_normal,\n",
    "                          epochs=20,\n",
    "                          batch_size=64,\n",
    "                          shuffle=True,\n",
    "                          validation_data=(x_val_normal, x_val_normal),\n",
    "                          callbacks=[early_stopping])"
   ]
  },
  {
   "cell_type": "code",
   "execution_count": null,
   "id": "52fb25bd-426f-4954-bc96-24deca033c2c",
   "metadata": {},
   "outputs": [],
   "source": [
    "# Plot the training history\n",
    "plt.plot(history.history['loss'], label='Train Loss')\n",
    "plt.plot(history.history['val_loss'], label='Validation Loss')\n",
    "plt.title('Training History')\n",
    "plt.xlabel('Epochs')\n",
    "plt.ylabel('Loss')\n",
    "plt.legend()\n",
    "plt.show()"
   ]
  },
  {
   "cell_type": "code",
   "execution_count": null,
   "id": "66e7bd92-7c0d-44d5-9442-7ea501517144",
   "metadata": {},
   "outputs": [],
   "source": [
    "# Calculate MSE for the validation dataset\n",
    "x_out_val = autoencoder.predict(x_val)\n",
    "mse_val = np.mean(np.square(x_val - x_out_val), axis=(1, 2, 3))"
   ]
  },
  {
   "cell_type": "code",
   "execution_count": null,
   "id": "42ef792c-091c-46f5-98aa-17139d7967ee",
   "metadata": {},
   "outputs": [],
   "source": [
    "# Visualize some digits from the dataset\n",
    "fig, axes = plt.subplots(1, 5, figsize=(10, 3))\n",
    "digits = [1,2,3,-1,-2]\n",
    "for i, ax in enumerate(axes):\n",
    "    ax.imshow(x_val[digits[i]].reshape(28, 28), cmap='gray')\n",
    "    ax.set_title(f\"Label: {y_val[digits[i]]}\")\n",
    "    ax.axis('off')\n",
    "plt.show()"
   ]
  },
  {
   "cell_type": "code",
   "execution_count": null,
   "id": "0c52419d-b30d-4fc8-9be4-faf44407ea4b",
   "metadata": {},
   "outputs": [],
   "source": [
    "# Visualize some digits from the dataset\n",
    "fig, axes = plt.subplots(1, 5, figsize=(10, 3))\n",
    "digits = [1,2,3,-1,-2]\n",
    "for i, ax in enumerate(axes):\n",
    "    ax.imshow(x_out_val[digits[i]].reshape(28, 28), cmap='gray')\n",
    "    ax.set_title(f\"Label: {y_val[digits[i]]}\")\n",
    "    ax.axis('off')\n",
    "plt.show()"
   ]
  },
  {
   "cell_type": "code",
   "execution_count": null,
   "id": "588c3096-0e31-4f0c-bdae-8c4e82a507a8",
   "metadata": {},
   "outputs": [],
   "source": [
    "# Plot the distribution of MSE for normal vs anomalies\n",
    "plt.figure(figsize=(10,6))\n",
    "sns.histplot(mse_val[y_val == 0], label='Normal', color='blue', kde=True)\n",
    "sns.histplot(mse_val[y_val == 1], label='Anomalies', color='red', kde=True)\n",
    "plt.title('MSE Distribution: Normal vs Anomalies')\n",
    "plt.legend()\n",
    "plt.show()"
   ]
  },
  {
   "cell_type": "code",
   "execution_count": null,
   "id": "a9c747cc-d461-4b22-a07c-e71d75de948e",
   "metadata": {},
   "outputs": [],
   "source": [
    "# ROC curve\n",
    "fpr, tpr, thresholds = roc_curve(y_val, mse_val)\n",
    "roc_auc = auc(fpr, tpr)\n",
    "\n",
    "plt.figure()\n",
    "plt.plot(fpr, tpr, color='darkorange', lw=2, label=f'ROC curve (area = {roc_auc:.2f})')\n",
    "plt.plot([0, 1], [0, 1], color='navy', lw=2, linestyle='--')\n",
    "plt.xlim([0.0, 1.0])\n",
    "plt.ylim([0.0, 1.05])\n",
    "plt.xlabel('False Positive Rate')\n",
    "plt.ylabel('True Positive Rate')\n",
    "plt.title('Receiver Operating Characteristic')\n",
    "plt.legend(loc=\"lower right\")\n",
    "plt.show()"
   ]
  },
  {
   "cell_type": "code",
   "execution_count": null,
   "id": "f20d9245-4654-4ded-9064-20915beed952",
   "metadata": {},
   "outputs": [],
   "source": []
  }
 ],
 "metadata": {
  "kernelspec": {
   "display_name": "Python 3 (ipykernel)",
   "language": "python",
   "name": "python3"
  },
  "language_info": {
   "codemirror_mode": {
    "name": "ipython",
    "version": 3
   },
   "file_extension": ".py",
   "mimetype": "text/x-python",
   "name": "python",
   "nbconvert_exporter": "python",
   "pygments_lexer": "ipython3",
   "version": "3.12.6"
  }
 },
 "nbformat": 4,
 "nbformat_minor": 5
}
