{
 "cells": [
  {
   "cell_type": "markdown",
   "id": "a1656b8b-95a2-40f4-91e3-028e3d5b93b4",
   "metadata": {},
   "source": [
    "# Exercise\n",
    "- download the Google Street View House Numbers (SVHN) dataset\n",
    "- display some examples for illustration purpose\n",
    "- dataset preprocessing\n",
    "- split the dataset in training to validation to test in 50% : 25% : 25% proportion\n",
    "- Define a convolutional classifier to be trained on SVHN with Keras, using batch normalization, relu activation layer and dropout\n",
    "- Train the model using early stopping\n",
    "- Show the training history\n",
    "- Show the ROC curve\n",
    "- Show the confusion matrix"
   ]
  },
  {
   "cell_type": "code",
   "execution_count": null,
   "id": "311da7d5-6aef-4547-82e3-e2b021f8dce8",
   "metadata": {},
   "outputs": [],
   "source": [
    "from scipy.io import loadmat\n",
    "import numpy as np\n",
    "import matplotlib.pyplot as plt"
   ]
  },
  {
   "cell_type": "code",
   "execution_count": null,
   "id": "70f9ab7e-a853-45fc-8b9f-73b86c2ff331",
   "metadata": {},
   "outputs": [],
   "source": [
    "#execute shell commands to download the dataset\n",
    "# we only download the \"training\" dataset. We could also download the \"test\" dataset and merge them\n",
    "! curl http://ufldl.stanford.edu/housenumbers/train_32x32.mat > /tmp/train_32x32.mat"
   ]
  },
  {
   "cell_type": "code",
   "execution_count": null,
   "id": "9fdb5944-aa40-41e4-9288-d52dc38acaed",
   "metadata": {},
   "outputs": [],
   "source": [
    "# Load the SVHN dataset\n",
    "data = loadmat('/tmp/train_32x32.mat')\n",
    "# Extract images and labels\n",
    "x = data['X']\n",
    "y = data['y']\n",
    "print(x.shape)\n",
    "print(y.shape)"
   ]
  },
  {
   "cell_type": "code",
   "execution_count": null,
   "id": "5eb8cce9-fbca-48be-841e-46189238e27f",
   "metadata": {},
   "outputs": [],
   "source": [
    "# SVHN data is in (32, 32, 3, N) format, so we need to transpose to (N, 32, 32, 3)\n",
    "x = np.transpose(x, (3, 0, 1, 2))\n",
    "print(x.shape)"
   ]
  },
  {
   "cell_type": "code",
   "execution_count": null,
   "id": "02b71ed4-241f-440f-b324-ccc5e335dc40",
   "metadata": {},
   "outputs": [],
   "source": [
    "# Replace label 10 with 0 (SVHN uses '10' for digit '0')\n",
    "y[y == 10] = 0"
   ]
  },
  {
   "cell_type": "code",
   "execution_count": null,
   "id": "7b0c1273-2e98-43d0-bbeb-6a495ba81d94",
   "metadata": {},
   "outputs": [],
   "source": [
    "# Display some example images from the dataset\n",
    "def plot_examples(images, labels, n=10):\n",
    "    plt.figure(figsize=(10, 1))\n",
    "    for i in range(n):\n",
    "        plt.subplot(1, n, i+1)\n",
    "        plt.imshow(images[i])\n",
    "        plt.title(int(labels[i]))\n",
    "        plt.axis('off')\n",
    "    plt.show()"
   ]
  },
  {
   "cell_type": "code",
   "execution_count": null,
   "id": "0c50fd82-590d-46a1-8226-6ae0b044c564",
   "metadata": {},
   "outputs": [],
   "source": [
    "plot_examples(x, y)"
   ]
  },
  {
   "cell_type": "markdown",
   "id": "dabc6c52-aaec-4ae6-bf00-247a01d56388",
   "metadata": {},
   "source": [
    "# Here starts your model design"
   ]
  },
  {
   "cell_type": "code",
   "execution_count": null,
   "id": "f18ff3d2-4045-4eb8-bb7f-5c24715575fd",
   "metadata": {},
   "outputs": [],
   "source": []
  }
 ],
 "metadata": {
  "kernelspec": {
   "display_name": "Python 3 (ipykernel)",
   "language": "python",
   "name": "python3"
  },
  "language_info": {
   "codemirror_mode": {
    "name": "ipython",
    "version": 3
   },
   "file_extension": ".py",
   "mimetype": "text/x-python",
   "name": "python",
   "nbconvert_exporter": "python",
   "pygments_lexer": "ipython3",
   "version": "3.12.6"
  }
 },
 "nbformat": 4,
 "nbformat_minor": 5
}
