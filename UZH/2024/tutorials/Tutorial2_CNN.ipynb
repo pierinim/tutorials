{
 "cells": [
  {
   "cell_type": "code",
   "execution_count": null,
   "id": "df3baeca-cafd-48d9-a787-2fcc3b89fd8d",
   "metadata": {},
   "outputs": [],
   "source": [
    "# Import necessary libraries\n",
    "import numpy as np\n",
    "import matplotlib.pyplot as plt\n",
    "import tensorflow as tf\n",
    "from tensorflow.keras.datasets import mnist\n",
    "from sklearn.metrics import roc_curve, auc, confusion_matrix\n",
    "from sklearn.preprocessing import label_binarize\n",
    "from tensorflow.keras.utils import to_categorical\n",
    "import seaborn as sns\n",
    "from sklearn.model_selection import train_test_split"
   ]
  },
  {
   "cell_type": "code",
   "execution_count": null,
   "id": "bf094054-d2c3-468f-8199-8d05316a9d2e",
   "metadata": {},
   "outputs": [],
   "source": [
    "# Load the MNIST dataset\n",
    "(x_train_full, y_train_full), (x_test, y_test) = mnist.load_data()"
   ]
  },
  {
   "cell_type": "code",
   "execution_count": null,
   "id": "92fd1714-4254-4233-8ac5-888955279ed5",
   "metadata": {},
   "outputs": [],
   "source": [
    "# Normalize the pixel values (0-255) to range [0, 1]\n",
    "x_train_full = x_train_full.astype('float32') / 255.0\n",
    "x_test = x_test.astype('float32') / 255.0"
   ]
  },
  {
   "cell_type": "code",
   "execution_count": null,
   "id": "420c1199-bab5-40cb-b2c3-38283cdce241",
   "metadata": {},
   "outputs": [],
   "source": [
    "# Reshape the input data to have a single channel (for CNN compatibility)\n",
    "x_train_full = x_train_full.reshape(-1, 28, 28, 1)\n",
    "x_test = x_test.reshape(-1, 28, 28, 1)"
   ]
  },
  {
   "cell_type": "code",
   "execution_count": null,
   "id": "8c8b88b3-1b38-47ff-8a93-8db6163876c5",
   "metadata": {},
   "outputs": [],
   "source": [
    "# Split training data into 50% train, 25% validation, 25% test\n",
    "x_train, x_val, y_train, y_val = train_test_split(x_train_full, y_train_full, test_size=0.5, random_state=42)\n",
    "x_val, x_test, y_val, y_test = train_test_split(x_val, y_val, test_size=0.5, random_state=42)"
   ]
  },
  {
   "cell_type": "code",
   "execution_count": null,
   "id": "2cab5a33-870c-4104-9148-5de932fca9e3",
   "metadata": {},
   "outputs": [],
   "source": [
    "# Convert labels to one-hot encoding\n",
    "y_train_cat = to_categorical(y_train, 10)\n",
    "y_val_cat = to_categorical(y_val, 10)\n",
    "y_test_cat = to_categorical(y_test, 10)"
   ]
  },
  {
   "cell_type": "code",
   "execution_count": null,
   "id": "a308ac0d-d5be-4214-a5ab-291e440925c5",
   "metadata": {},
   "outputs": [],
   "source": [
    "# Build a simple CNN model\n",
    "model = tf.keras.Sequential([\n",
    "    tf.keras.layers.Conv2D(16, (3, 3), activation='sigmoid', input_shape=(28, 28, 1)),\n",
    "    tf.keras.layers.MaxPooling2D((2, 2)),\n",
    "    tf.keras.layers.Conv2D(8, (3, 3), activation='sigmoid'),\n",
    "    tf.keras.layers.MaxPooling2D((2, 2)),\n",
    "    tf.keras.layers.Flatten(),\n",
    "    tf.keras.layers.Dense(16, activation='sigmoid'),\n",
    "    tf.keras.layers.Dense(10, activation='softmax')  # 10 classes for digits 0-9\n",
    "])"
   ]
  },
  {
   "cell_type": "code",
   "execution_count": null,
   "id": "44a0c96b-fba0-4c5a-83a9-6e579b1f3d4b",
   "metadata": {},
   "outputs": [],
   "source": [
    "# Compile the model\n",
    "model.compile(optimizer='adam',\n",
    "              loss='categorical_crossentropy',\n",
    "              metrics=['accuracy'])"
   ]
  },
  {
   "cell_type": "code",
   "execution_count": null,
   "id": "c9364f9a-3af1-4a12-94d7-b33f6d649513",
   "metadata": {},
   "outputs": [],
   "source": [
    "print(model.summary())"
   ]
  },
  {
   "cell_type": "code",
   "execution_count": null,
   "id": "7e821db8-ea00-41c1-8be0-82e8eca03ee6",
   "metadata": {},
   "outputs": [],
   "source": [
    "# Train the model and store the history\n",
    "history = model.fit(x_train, y_train_cat, epochs=10, validation_data=(x_val, y_val_cat))"
   ]
  },
  {
   "cell_type": "code",
   "execution_count": null,
   "id": "8d99f36d-32c7-4bad-a203-0d09d7c10b88",
   "metadata": {},
   "outputs": [],
   "source": [
    "# Evaluate the model on test data\n",
    "test_loss, test_acc = model.evaluate(x_test, y_test_cat)\n",
    "print(f'\\nTest accuracy: {test_acc}')"
   ]
  },
  {
   "cell_type": "code",
   "execution_count": null,
   "id": "26e43222-f0bf-4bf2-ae9f-766a29d4ee8e",
   "metadata": {},
   "outputs": [],
   "source": [
    "# Plot training & validation accuracy and loss\n",
    "def plot_training_history(history):\n",
    "    acc = history.history['accuracy']\n",
    "    val_acc = history.history['val_accuracy']\n",
    "    loss = history.history['loss']\n",
    "    val_loss = history.history['val_loss']\n",
    "    epochs = range(1, len(acc) + 1)\n",
    "\n",
    "    plt.figure(figsize=(12, 5))\n",
    "\n",
    "    # Plot training & validation accuracy\n",
    "    plt.subplot(1, 2, 1)\n",
    "    plt.plot(epochs, acc, label='Training Accuracy')\n",
    "    plt.plot(epochs, val_acc, label='Validation Accuracy')\n",
    "    plt.title('Training and Validation Accuracy')\n",
    "    plt.xlabel('Epochs')\n",
    "    plt.ylabel('Accuracy')\n",
    "    plt.legend()\n",
    "\n",
    "    # Plot training & validation loss\n",
    "    plt.subplot(1, 2, 2)\n",
    "    plt.plot(epochs, loss, label='Training Loss')\n",
    "    plt.plot(epochs, val_loss, label='Validation Loss')\n",
    "    plt.title('Training and Validation Loss')\n",
    "    plt.xlabel('Epochs')\n",
    "    plt.ylabel('Loss')\n",
    "    plt.legend()\n",
    "\n",
    "    plt.show()"
   ]
  },
  {
   "cell_type": "code",
   "execution_count": null,
   "id": "8eb3305a-4574-4ebf-af79-529d40c8294b",
   "metadata": {},
   "outputs": [],
   "source": [
    "\n",
    "# Call the function to plot the training history\n",
    "plot_training_history(history)"
   ]
  },
  {
   "cell_type": "code",
   "execution_count": null,
   "id": "8031ccbc-346f-4cdf-b9d1-47e4c5a38635",
   "metadata": {},
   "outputs": [],
   "source": [
    "# Generate ROC curve for each class\n",
    "def plot_roc_curves(y_true, y_pred):\n",
    "    # Binarize the labels\n",
    "    y_true_bin = label_binarize(y_true, classes=np.arange(10))\n",
    "    \n",
    "    fpr = dict()\n",
    "    tpr = dict()\n",
    "    roc_auc = dict()\n",
    "    \n",
    "    for i in range(10):\n",
    "        fpr[i], tpr[i], _ = roc_curve(y_true_bin[:, i], y_pred[:, i])\n",
    "        roc_auc[i] = auc(fpr[i], tpr[i])\n",
    "        fpr[i] = 1/fpr[i]\n",
    "        fpr[i][np.isnan(fpr[i])] = 0\n",
    "    \n",
    "    # Plot all ROC curves\n",
    "    plt.figure(figsize=(12, 8))\n",
    "    colors = plt.cm.get_cmap('tab10')\n",
    "    for i in range(10):\n",
    "        plt.plot(tpr[i], fpr[i], color=colors(i), lw=2, label=f'ROC curve (class {i}) (area = {roc_auc[i]:.5f})')\n",
    "    \n",
    "    #plt.plot([0, 1], [0, 1], 'k--', lw=2)\n",
    "    #plt.xscale(\"log\")\n",
    "    plt.yscale(\"log\")  \n",
    "    plt.xlim([0.7, 1.0])\n",
    "    #plt.ylim([1., 100000])\n",
    "    plt.ylabel('1/False Positive Rate')\n",
    "    plt.xlabel('True Positive Rate')\n",
    "    plt.title('ROC Curves for Each Digit')\n",
    "    plt.legend(loc='lower left')\n",
    "    plt.show()"
   ]
  },
  {
   "cell_type": "code",
   "execution_count": null,
   "id": "de08a7ad-3c01-49d0-8fc2-449c9d2066c1",
   "metadata": {},
   "outputs": [],
   "source": [
    "# Get model predictions\n",
    "y_pred_prob = model.predict(x_test)\n",
    "# Plot ROC curves\n",
    "plot_roc_curves(y_test, y_pred_prob)"
   ]
  },
  {
   "cell_type": "code",
   "execution_count": null,
   "id": "dd265250-cdfd-4c07-9677-fc8df6751863",
   "metadata": {},
   "outputs": [],
   "source": [
    "# Confusion Matrix\n",
    "def plot_confusion_matrix(y_true, y_pred):\n",
    "    y_pred_classes = np.argmax(y_pred, axis=1)\n",
    "    cm = confusion_matrix(y_true, y_pred_classes)\n",
    "\n",
    "    plt.figure(figsize=(10, 8))\n",
    "    sns.heatmap(cm, annot=True, fmt='d', cmap='Blues', xticklabels=np.arange(10), yticklabels=np.arange(10))\n",
    "    plt.title('Confusion Matrix')\n",
    "    plt.ylabel('True Label')\n",
    "    plt.xlabel('Predicted Label')\n",
    "    plt.show()"
   ]
  },
  {
   "cell_type": "code",
   "execution_count": null,
   "id": "b86819ca-0d76-4a16-bcc7-9390b9d10ae4",
   "metadata": {},
   "outputs": [],
   "source": [
    "# Plot confusion matrix\n",
    "plot_confusion_matrix(y_test, y_pred_prob)"
   ]
  },
  {
   "cell_type": "code",
   "execution_count": null,
   "id": "15285bbb-3856-4c2b-a07d-af0a5f915a73",
   "metadata": {},
   "outputs": [],
   "source": []
  }
 ],
 "metadata": {
  "kernelspec": {
   "display_name": "Python 3 (ipykernel)",
   "language": "python",
   "name": "python3"
  },
  "language_info": {
   "codemirror_mode": {
    "name": "ipython",
    "version": 3
   },
   "file_extension": ".py",
   "mimetype": "text/x-python",
   "name": "python",
   "nbconvert_exporter": "python",
   "pygments_lexer": "ipython3",
   "version": "3.12.6"
  }
 },
 "nbformat": 4,
 "nbformat_minor": 5
}
