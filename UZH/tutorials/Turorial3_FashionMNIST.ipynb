{
 "cells": [
  {
   "cell_type": "code",
   "execution_count": null,
   "id": "ab5f0298-573c-4eba-9612-6f69c3bfbbb6",
   "metadata": {},
   "outputs": [],
   "source": [
    "# Imports\n",
    "import numpy as np\n",
    "import matplotlib.pyplot as plt\n",
    "from tensorflow import keras\n",
    "from tensorflow.keras import layers, models\n",
    "from sklearn.metrics import confusion_matrix, roc_curve, auc, roc_auc_score\n",
    "from sklearn.model_selection import train_test_split\n",
    "import seaborn as sns"
   ]
  },
  {
   "cell_type": "code",
   "execution_count": null,
   "id": "2385bc7c-8c76-4741-9ca6-426738847fad",
   "metadata": {},
   "outputs": [],
   "source": [
    "# 1. Load the Fashion-MNIST dataset\n",
    "(x_train_full, y_train_full), (x_test, y_test) = keras.datasets.fashion_mnist.load_data()\n",
    "\n",
    "# Display a few sample images\n",
    "class_names = [\"T-shirt/top\", \"Trouser\", \"Pullover\", \"Dress\", \"Coat\",\n",
    "               \"Sandal\", \"Shirt\", \"Sneaker\", \"Bag\", \"Ankle boot\"]\n",
    "\n",
    "plt.figure(figsize=(10, 5))\n",
    "for i in range(10):\n",
    "    plt.subplot(2, 5, i + 1)\n",
    "    plt.imshow(x_train_full[i], cmap=\"gray\")\n",
    "    plt.title(class_names[y_train_full[i]])\n",
    "    plt.axis(\"off\")\n",
    "plt.show()"
   ]
  },
  {
   "cell_type": "code",
   "execution_count": null,
   "id": "79f4ea06-bf5e-4a0a-99ae-fe4760263fa2",
   "metadata": {},
   "outputs": [],
   "source": [
    "# 2. Normalize the data to [0, 1]\n",
    "x_train_full = x_train_full.astype(\"float32\") / 255.0\n",
    "x_test = x_test.astype(\"float32\") / 255.0\n",
    "\n",
    "# Add a channel dimension (since CNN expects 4D input)\n",
    "x_train_full = np.expand_dims(x_train_full, -1)\n",
    "x_test = np.expand_dims(x_test, -1)\n"
   ]
  },
  {
   "cell_type": "code",
   "execution_count": null,
   "id": "ed92ea33-698c-4595-924c-a534b0c637ee",
   "metadata": {},
   "outputs": [],
   "source": [
    "# 3. Split into training (50%), validation (25%), test (25%)\n"
   ]
  },
  {
   "cell_type": "code",
   "execution_count": null,
   "id": "27687aac-76b6-4568-96e4-94136ab34e9a",
   "metadata": {},
   "outputs": [],
   "source": [
    "# 4. Define a CNN classifier\n"
   ]
  },
  {
   "cell_type": "code",
   "execution_count": null,
   "id": "b81ef0c6-5736-4d69-a77d-b458bac67194",
   "metadata": {},
   "outputs": [],
   "source": [
    "# 5. Train the model (mini-batch)\n"
   ]
  },
  {
   "cell_type": "code",
   "execution_count": null,
   "id": "86f403fc-a13a-49d6-b99b-85b918102816",
   "metadata": {},
   "outputs": [],
   "source": [
    "# 6. Plot learning curves\n"
   ]
  },
  {
   "cell_type": "code",
   "execution_count": null,
   "id": "b7ad1112-31c3-4f35-a5c3-ff3e3d449245",
   "metadata": {},
   "outputs": [],
   "source": [
    "# 7. ROC Curves (one-vs-all)\n"
   ]
  },
  {
   "cell_type": "code",
   "execution_count": null,
   "id": "7eb0c330-6ca5-4151-979f-039f2285a0b7",
   "metadata": {},
   "outputs": [],
   "source": [
    "# 8. Confusion Matrix\n"
   ]
  }
 ],
 "metadata": {
  "kernelspec": {
   "display_name": "Python 3 (ipykernel)",
   "language": "python",
   "name": "python3"
  },
  "language_info": {
   "codemirror_mode": {
    "name": "ipython",
    "version": 3
   },
   "file_extension": ".py",
   "mimetype": "text/x-python",
   "name": "python",
   "nbconvert_exporter": "python",
   "pygments_lexer": "ipython3",
   "version": "3.12.6"
  }
 },
 "nbformat": 4,
 "nbformat_minor": 5
}
